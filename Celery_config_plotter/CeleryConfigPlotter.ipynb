{
 "cells": [
  {
   "cell_type": "markdown",
   "metadata": {},
   "source": [
    "# Celery結構規劃"
   ]
  },
  {
   "cell_type": "code",
   "execution_count": 1,
   "metadata": {
    "collapsed": true
   },
   "outputs": [],
   "source": [
    "from celery import Celery"
   ]
  },
  {
   "cell_type": "code",
   "execution_count": 2,
   "metadata": {
    "collapsed": false
   },
   "outputs": [],
   "source": [
    "import pandas as pd\n",
    "from pandas import Series, DataFrame"
   ]
  },
  {
   "cell_type": "code",
   "execution_count": 3,
   "metadata": {
    "collapsed": true
   },
   "outputs": [],
   "source": [
    "import os\n",
    "from pprint import pprint"
   ]
  },
  {
   "cell_type": "markdown",
   "metadata": {},
   "source": [
    "### 預設的參數"
   ]
  },
  {
   "cell_type": "code",
   "execution_count": 4,
   "metadata": {
    "collapsed": false
   },
   "outputs": [],
   "source": [
    "def listDefaultCeleryConfigurations():\n",
    "    app = Celery()\n",
    "    configs = app.conf.__dict__['_order'][2]\n",
    "    configs = sorted([(k, v) for k, v in configs.items()])\n",
    "    for k, v in configs:\n",
    "        print ('{0} = {1}'.format(k,  (\"'\" + v + \"'\") if isinstance(v, str) else v) )"
   ]
  },
  {
   "cell_type": "code",
   "execution_count": 5,
   "metadata": {
    "collapsed": false
   },
   "outputs": [
    {
     "name": "stdout",
     "output_type": "stream",
     "text": [
      "ADMINS = ()\n",
      "BROKER_CONNECTION_MAX_RETRIES = 100\n",
      "BROKER_CONNECTION_RETRY = True\n",
      "BROKER_CONNECTION_TIMEOUT = 4\n",
      "BROKER_FAILOVER_STRATEGY = None\n",
      "BROKER_HEARTBEAT = None\n",
      "BROKER_HEARTBEAT_CHECKRATE = 3.0\n",
      "BROKER_HOST = None\n",
      "BROKER_LOGIN_METHOD = None\n",
      "BROKER_PASSWORD = None\n",
      "BROKER_POOL_LIMIT = 10\n",
      "BROKER_PORT = None\n",
      "BROKER_TRANSPORT = None\n",
      "BROKER_TRANSPORT_OPTIONS = {}\n",
      "BROKER_URL = None\n",
      "BROKER_USER = None\n",
      "BROKER_USE_SSL = False\n",
      "BROKER_VHOST = None\n",
      "CASSANDRA_COLUMN_FAMILY = None\n",
      "CASSANDRA_DETAILED_MODE = False\n",
      "CASSANDRA_KEYSPACE = None\n",
      "CASSANDRA_READ_CONSISTENCY = None\n",
      "CASSANDRA_SERVERS = None\n",
      "CASSANDRA_WRITE_CONSISTENCY = None\n",
      "CELERYBEAT_LOG_FILE = None\n",
      "CELERYBEAT_LOG_LEVEL = 'INFO'\n",
      "CELERYBEAT_MAX_LOOP_INTERVAL = 0\n",
      "CELERYBEAT_SCHEDULE = {}\n",
      "CELERYBEAT_SCHEDULER = 'celery.beat:PersistentScheduler'\n",
      "CELERYBEAT_SCHEDULE_FILENAME = 'celerybeat-schedule'\n",
      "CELERYBEAT_SYNC_EVERY = 0\n",
      "CELERYD_AGENT = None\n",
      "CELERYD_AUTORELOADER = 'celery.worker.autoreload:Autoreloader'\n",
      "CELERYD_AUTOSCALER = 'celery.worker.autoscale:Autoscaler'\n",
      "CELERYD_CONCURRENCY = 0\n",
      "CELERYD_CONSUMER = 'celery.worker.consumer:Consumer'\n",
      "CELERYD_FORCE_EXECV = False\n",
      "CELERYD_HIJACK_ROOT_LOGGER = True\n",
      "CELERYD_LOG_COLOR = None\n",
      "CELERYD_LOG_FILE = None\n",
      "CELERYD_LOG_FORMAT = '[%(asctime)s: %(levelname)s/%(processName)s] %(message)s'\n",
      "CELERYD_LOG_LEVEL = 'WARN'\n",
      "CELERYD_MAX_TASKS_PER_CHILD = None\n",
      "CELERYD_POOL = 'prefork'\n",
      "CELERYD_POOL_PUTLOCKS = True\n",
      "CELERYD_POOL_RESTARTS = False\n",
      "CELERYD_PREFETCH_MULTIPLIER = 4\n",
      "CELERYD_STATE_DB = None\n",
      "CELERYD_TASK_LOG_FORMAT = '[%(asctime)s: %(levelname)s/%(processName)s] %(task_name)s[%(task_id)s]: %(message)s'\n",
      "CELERYD_TASK_SOFT_TIME_LIMIT = None\n",
      "CELERYD_TASK_TIME_LIMIT = None\n",
      "CELERYD_TIMER = None\n",
      "CELERYD_TIMER_PRECISION = 1.0\n",
      "CELERYD_WORKER_LOST_WAIT = 10.0\n",
      "CELERYMON_LOG_FILE = None\n",
      "CELERYMON_LOG_FORMAT = '[%(asctime)s: %(levelname)s] %(message)s'\n",
      "CELERYMON_LOG_LEVEL = 'INFO'\n",
      "CELERY_ACCEPT_CONTENT = ['json', 'pickle', 'msgpack', 'yaml']\n",
      "CELERY_ACKS_LATE = False\n",
      "CELERY_ALWAYS_EAGER = False\n",
      "CELERY_ANNOTATIONS = None\n",
      "CELERY_BROADCAST_EXCHANGE = 'celeryctl'\n",
      "CELERY_BROADCAST_EXCHANGE_TYPE = 'fanout'\n",
      "CELERY_BROADCAST_QUEUE = 'celeryctl'\n",
      "CELERY_CACHE_BACKEND = None\n",
      "CELERY_CACHE_BACKEND_OPTIONS = {}\n",
      "CELERY_CHORD_PROPAGATES = True\n",
      "CELERY_COUCHBASE_BACKEND_SETTINGS = None\n",
      "CELERY_CREATE_MISSING_QUEUES = True\n",
      "CELERY_DEFAULT_DELIVERY_MODE = 2\n",
      "CELERY_DEFAULT_EXCHANGE = 'celery'\n",
      "CELERY_DEFAULT_EXCHANGE_TYPE = 'direct'\n",
      "CELERY_DEFAULT_QUEUE = 'celery'\n",
      "CELERY_DEFAULT_RATE_LIMIT = None\n",
      "CELERY_DEFAULT_ROUTING_KEY = 'celery'\n",
      "CELERY_DISABLE_RATE_LIMITS = False\n",
      "CELERY_EAGER_PROPAGATES_EXCEPTIONS = False\n",
      "CELERY_ENABLE_REMOTE_CONTROL = True\n",
      "CELERY_ENABLE_UTC = True\n",
      "CELERY_EVENT_QUEUE_EXPIRES = None\n",
      "CELERY_EVENT_QUEUE_TTL = None\n",
      "CELERY_EVENT_SERIALIZER = 'json'\n",
      "CELERY_IGNORE_RESULT = False\n",
      "CELERY_IMPORTS = ()\n",
      "CELERY_INCLUDE = ()\n",
      "CELERY_MAX_CACHED_RESULTS = 100\n",
      "CELERY_MESSAGE_COMPRESSION = None\n",
      "CELERY_MONGODB_BACKEND_SETTINGS = None\n",
      "CELERY_QUEUES = None\n",
      "CELERY_QUEUE_HA_POLICY = None\n",
      "CELERY_REDIRECT_STDOUTS = True\n",
      "CELERY_REDIRECT_STDOUTS_LEVEL = 'WARNING'\n",
      "CELERY_REDIS_DB = None\n",
      "CELERY_REDIS_HOST = None\n",
      "CELERY_REDIS_MAX_CONNECTIONS = None\n",
      "CELERY_REDIS_PASSWORD = None\n",
      "CELERY_REDIS_PORT = None\n",
      "CELERY_RESULT_BACKEND = None\n",
      "CELERY_RESULT_DBURI = None\n",
      "CELERY_RESULT_DB_SHORT_LIVED_SESSIONS = False\n",
      "CELERY_RESULT_DB_TABLENAMES = None\n",
      "CELERY_RESULT_ENGINE_OPTIONS = None\n",
      "CELERY_RESULT_EXCHANGE = 'celeryresults'\n",
      "CELERY_RESULT_EXCHANGE_TYPE = 'direct'\n",
      "CELERY_RESULT_PERSISTENT = None\n",
      "CELERY_RESULT_SERIALIZER = 'pickle'\n",
      "CELERY_ROUTES = None\n",
      "CELERY_SECURITY_CERTIFICATE = None\n",
      "CELERY_SECURITY_CERT_STORE = None\n",
      "CELERY_SECURITY_KEY = None\n",
      "CELERY_SEND_EVENTS = False\n",
      "CELERY_SEND_TASK_ERROR_EMAILS = False\n",
      "CELERY_SEND_TASK_SENT_EVENT = False\n",
      "CELERY_STORE_ERRORS_EVEN_IF_IGNORED = False\n",
      "CELERY_TASK_PUBLISH_RETRY = True\n",
      "CELERY_TASK_PUBLISH_RETRY_POLICY = {'max_retries': 3, 'interval_max': 1, 'interval_step': 0.2, 'interval_start': 0}\n",
      "CELERY_TASK_RESULT_EXPIRES = 1 day, 0:00:00\n",
      "CELERY_TASK_SERIALIZER = 'pickle'\n",
      "CELERY_TIMEZONE = None\n",
      "CELERY_TRACK_STARTED = False\n",
      "CELERY_WORKER_DIRECT = False\n",
      "EMAIL_HOST = 'localhost'\n",
      "EMAIL_HOST_PASSWORD = None\n",
      "EMAIL_HOST_USER = None\n",
      "EMAIL_PORT = 25\n",
      "EMAIL_TIMEOUT = 2\n",
      "EMAIL_USE_SSL = False\n",
      "EMAIL_USE_TLS = False\n",
      "SERVER_EMAIL = 'celery@localhost'\n"
     ]
    }
   ],
   "source": [
    "listDefaultCeleryConfigurations()"
   ]
  },
  {
   "cell_type": "markdown",
   "metadata": {},
   "source": [
    "---\n",
    "### 抓取 規劃檔案 內容"
   ]
  },
  {
   "cell_type": "code",
   "execution_count": 6,
   "metadata": {
    "collapsed": true
   },
   "outputs": [],
   "source": [
    "def getExcelData(file):\n",
    "    df = pd.read_excel(file)\n",
    "    df.dropna(axis=0, how='all', inplace=True)\n",
    "\n",
    "    return df"
   ]
  },
  {
   "cell_type": "markdown",
   "metadata": {},
   "source": [
    "---\n",
    "#### Import Kombu classes"
   ]
  },
  {
   "cell_type": "code",
   "execution_count": 7,
   "metadata": {
    "collapsed": true
   },
   "outputs": [],
   "source": [
    "def import_Kombu_classes(plan, summary):\n",
    "    output = [] \n",
    "    output.extend(['', '#{0:_^78}'.format('Import Kombu classes')])\n",
    "    output.append('{0}'.format('from kombu import Exchange, Queue'))\n",
    "    summary.extend(output)\n",
    "    \n",
    "    return summary"
   ]
  },
  {
   "cell_type": "markdown",
   "metadata": {},
   "source": [
    "---\n",
    "#### CELERY_TIMEZONE & Misc."
   ]
  },
  {
   "cell_type": "code",
   "execution_count": 8,
   "metadata": {
    "collapsed": false
   },
   "outputs": [],
   "source": [
    "def set_CELERY_TIMEZONE_Misc(plan, summary):\n",
    "    # 自訂的\n",
    "    CELERY_TIMEZONE = 'Asia/Taipei' \n",
    "\n",
    "    output = [] \n",
    "    output.extend(['', '#{0:_^78}'.format('CELERY_TIMEZONE & Misc.')])\n",
    "    output.append(\"CELERY_TIMEZONE = '{0}'\".format(CELERY_TIMEZONE))\n",
    "    output.append('CELERYD_POOL_RESTARTS = True')\n",
    "    summary.extend(output)\n",
    "    \n",
    "    return summary"
   ]
  },
  {
   "cell_type": "markdown",
   "metadata": {},
   "source": [
    "---\n",
    "#### BROKER_URL\n",
    "BROKER_URL = 'redis://netbrain.noip.me:6379/0'"
   ]
  },
  {
   "cell_type": "code",
   "execution_count": 9,
   "metadata": {
    "collapsed": false
   },
   "outputs": [],
   "source": [
    "def set_BROKER_URL(plan, summary):\n",
    "    BROKER_URL = plan.Broker.drop_duplicates()[0]\n",
    "\n",
    "    output = [] \n",
    "    output.extend(['', '#{0:_^78}'.format('BROKER_URL')])\n",
    "    output.append(\"BROKER_URL = '{0}'\".format(BROKER_URL))\n",
    "    summary.extend(output)\n",
    "    \n",
    "    return summary"
   ]
  },
  {
   "cell_type": "markdown",
   "metadata": {},
   "source": [
    "---\n",
    "#### CELERY_RESULT_BACKEND\n",
    "CELERY_RESULT_BACKEND = 'redis://netbrain.noip.me:6379/1'"
   ]
  },
  {
   "cell_type": "code",
   "execution_count": 10,
   "metadata": {
    "collapsed": false
   },
   "outputs": [],
   "source": [
    "def set_CELERY_RESULT_BACKEND(plan, summary):\n",
    "    CELERY_RESULT_BACKEND = plan.Result_backend.drop_duplicates()[0]\n",
    "\n",
    "    output = [] \n",
    "    output.extend(['', '#{0:_^78}'.format('CELERY_RESULT_BACKEND')])\n",
    "    output.append(\"CELERY_RESULT_BACKEND = '{0}'\".format(CELERY_RESULT_BACKEND))\n",
    "    summary.extend(output)\n",
    "    \n",
    "    return summary"
   ]
  },
  {
   "cell_type": "markdown",
   "metadata": {},
   "source": [
    "---\n",
    "#### CELERY_IMPORTS\n",
    "CELERY_IMPORTS = ('proj.tasks', )"
   ]
  },
  {
   "cell_type": "code",
   "execution_count": 11,
   "metadata": {
    "collapsed": false
   },
   "outputs": [],
   "source": [
    "def set_CELERY_IMPORTS(plan, summary):\n",
    "    Celery_app_tasks = plan[['Celery_app', 'Tasks_module']].drop_duplicates()\n",
    "    modules = ('{0}.{1}'.format(Celery_app_tasks.ix[i, 'Celery_app'], Celery_app_tasks.ix[i, 'Tasks_module']) for i in range(len(Celery_app_tasks)))\n",
    "    CELERY_IMPORTS = tuple(modules)\n",
    "\n",
    "    output = [] \n",
    "    output.extend(['', '#{0:_^78}'.format('CELERY_IMPORTS')])\n",
    "    output.append('CELERY_IMPORTS = {0}'.format(CELERY_IMPORTS))\n",
    "    summary.extend(output)\n",
    "    \n",
    "    return summary"
   ]
  },
  {
   "cell_type": "markdown",
   "metadata": {},
   "source": [
    "---\n",
    "#### CELERY_QUEUES"
   ]
  },
  {
   "cell_type": "markdown",
   "metadata": {},
   "source": [
    "    CELERY_QUEUES = (\n",
    "        Queue('feed_tasks', routing_key='feed.#'),\n",
    "        Queue('regular_tasks', routing_key='task.#'),\n",
    "        Queue('image_tasks', exchange=Exchange('mediatasks', type='direct'), routing_key='image.compress'),\n",
    "    )\n",
    "\n",
    "    CELERY_QUEUES = (\n",
    "        Queue('default', Exchange('default'), routing_key='default'),\n",
    "        Queue('videos',  Exchange('media'),   routing_key='media.video'),\n",
    "        Queue('images',  Exchange('media'),   routing_key='media.image'),\n",
    "    )"
   ]
  },
  {
   "cell_type": "code",
   "execution_count": 12,
   "metadata": {
    "collapsed": false
   },
   "outputs": [],
   "source": [
    "def set_CELERY_QUEUES(plan, summary):\n",
    "    queues = plan[['Queue', 'Exchange', 'Exchange_Type', 'Routing_Key']].drop_duplicates()\n",
    "    output = [] \n",
    "    output.extend(['', '#{0:_^78}'.format('CELERY_QUEUES')])\n",
    "\n",
    "    output.append('CELERY_QUEUES = (')\n",
    "\n",
    "    for i in range(len(queues)):\n",
    "        output.append(\"    Queue('{queue}', Exchange('{exchange}', type = '{exchange_Type}'), routing_key='{routing_key}'),\"\\\n",
    "               .format(queue = queues.ix[i, 'Queue'],\n",
    "                       exchange = queues.ix[i, 'Exchange'],\n",
    "                       exchange_Type = queues.ix[i, 'Exchange_Type'], \n",
    "                       routing_key = queues.ix[i, 'Routing_Key'] \n",
    "                      )\n",
    "              )\n",
    "    output.append(')')\n",
    "\n",
    "    summary.extend(output)\n",
    "    \n",
    "    return summary"
   ]
  },
  {
   "cell_type": "markdown",
   "metadata": {},
   "source": [
    "---\n",
    "#### CELERY_ROUTES"
   ]
  },
  {
   "cell_type": "markdown",
   "metadata": {},
   "source": [
    "    CELERY_ROUTES = {\n",
    "            'feeds.tasks.import_feed': {\n",
    "                'queue': 'feed_tasks',\n",
    "                'routing_key': 'feed.import',\n",
    "            },\n",
    "    }"
   ]
  },
  {
   "cell_type": "code",
   "execution_count": 13,
   "metadata": {
    "collapsed": false
   },
   "outputs": [],
   "source": [
    "def set_CELERY_ROUTES(plan, summary):\n",
    "    routes = plan[['Celery_app', 'Tasks_module', 'Task', 'Queue', 'Routing_Key']].drop_duplicates()\n",
    "    output = [] \n",
    "    output.extend(['', '#{0:_^78}'.format('CELERY_ROUTES')])\n",
    "\n",
    "    output.append('CELERY_ROUTES = {')\n",
    "\n",
    "    for i in range(len(routes)):\n",
    "        output.append(\"    '{app}.{module}.{task}': {{\\n        'queue': '{queue}',\\n        'routing_key': '{routing_key}',\\n    }},\"\\\n",
    "               .format(app = routes.ix[i, 'Celery_app'],\n",
    "                       module = routes.ix[i, 'Tasks_module'],\n",
    "                       task = routes.ix[i, 'Task'], \n",
    "                       queue = routes.ix[i, 'Queue'],                   \n",
    "                       routing_key = routes.ix[i, 'Routing_Key'])\n",
    "              )\n",
    "    output.append('}')\n",
    "\n",
    "    summary.extend(output)\n",
    "    \n",
    "    return summary"
   ]
  },
  {
   "cell_type": "markdown",
   "metadata": {},
   "source": [
    "---\n",
    "#### WORKERS"
   ]
  },
  {
   "cell_type": "code",
   "execution_count": 14,
   "metadata": {
    "collapsed": false
   },
   "outputs": [],
   "source": [
    "def set_Workers_Scripts(plan, summary):\n",
    "    workers = plan[['Node', 'Celery_app', 'Worker', 'Queue', 'Concurrency', 'Log_level']].drop_duplicates()\n",
    "    output = []\n",
    "    output.extend(['', '#{0:_^78}'.format('Workers Scripts')])\n",
    "\n",
    "    for i in range(len(workers)):\n",
    "        output.append('#[Node - {node}] : celery -A {app} worker -n {worker} -Q {queue} --concurrency={concurrency} --loglevel={loglevel}'\\\n",
    "               .format(node = workers.ix[i, 'Node'],\n",
    "                       app = workers.ix[i, 'Celery_app'],\n",
    "                       worker = workers.ix[i, 'Worker'], \n",
    "                       queue = workers.ix[i, 'Queue'], \n",
    "                       concurrency = workers.ix[i, 'Concurrency'],                   \n",
    "                       loglevel = workers.ix[i, 'Log_level']\n",
    "                      )\n",
    "              )\n",
    "\n",
    "    summary.extend(output)\n",
    "    \n",
    "    return summary"
   ]
  },
  {
   "cell_type": "markdown",
   "metadata": {},
   "source": [
    "---\n",
    "#### FLOWER"
   ]
  },
  {
   "cell_type": "code",
   "execution_count": 15,
   "metadata": {
    "collapsed": false
   },
   "outputs": [],
   "source": [
    "def set_FLOWER(plan, summary):\n",
    "    app = plan.Celery_app.drop_duplicates()[0]\n",
    "    output = [] \n",
    "    output.extend(['', '#{0:_^78}'.format('FLOWER')])\n",
    "    \n",
    "    output.append('#[Flower] : celery -A {app} flower'.format(app = app))\n",
    "    summary.extend(output)\n",
    "    \n",
    "    return summary"
   ]
  },
  {
   "cell_type": "markdown",
   "metadata": {},
   "source": [
    "## Summarize"
   ]
  },
  {
   "cell_type": "code",
   "execution_count": 16,
   "metadata": {
    "collapsed": true
   },
   "outputs": [],
   "source": [
    "def summarizeConfigurations(planExcelFile):\n",
    "    \n",
    "    summary = []\n",
    "    \n",
    "#     listDefaultCeleryConfigurations()\n",
    "\n",
    "    plan = getExcelData(planExcelFile)\n",
    "    \n",
    "    import_Kombu_classes(plan, summary)\n",
    "    set_CELERY_TIMEZONE_Misc(plan, summary)\n",
    "    set_BROKER_URL(plan, summary)\n",
    "    set_CELERY_RESULT_BACKEND(plan, summary)\n",
    "    set_CELERY_IMPORTS(plan, summary)\n",
    "    set_CELERY_QUEUES(plan, summary)\n",
    "    set_CELERY_ROUTES(plan, summary)\n",
    "    \n",
    "    set_Workers_Scripts(plan, summary)\n",
    "    set_FLOWER(plan, summary)\n",
    "    \n",
    "    return summary"
   ]
  },
  {
   "cell_type": "markdown",
   "metadata": {},
   "source": [
    "## Output Configuration File"
   ]
  },
  {
   "cell_type": "code",
   "execution_count": 17,
   "metadata": {
    "collapsed": false
   },
   "outputs": [],
   "source": [
    "def writeConfigurationFile(summary, file = 'celeryconfig.py'):\n",
    "    with open(file, 'w', encoding = 'utf8') as f:\n",
    "        for line in summary: f.write(line + '\\n')"
   ]
  },
  {
   "cell_type": "code",
   "execution_count": 18,
   "metadata": {
    "collapsed": true
   },
   "outputs": [],
   "source": [
    "def genConfigFile():\n",
    "    # 指定規劃檔案\n",
    "    folder = os.getcwd()\n",
    "    files = [file for file in os.listdir(folder) if file.rpartition('.')[2] in ('xls','xlsx')]    \n",
    "    \n",
    "    if len(files) == 1 :        \n",
    "        file = os.path.join(folder, files[0])\n",
    "        summary = summarizeConfigurations(file)\n",
    "        for line in summary: print (line) \n",
    "        writeConfigurationFile(summary)\n",
    "        \n",
    "    else:\n",
    "        print('There must be one and only one plan Excel file.')    "
   ]
  },
  {
   "cell_type": "markdown",
   "metadata": {},
   "source": [
    "## Main"
   ]
  },
  {
   "cell_type": "code",
   "execution_count": 19,
   "metadata": {
    "collapsed": false,
    "scrolled": true
   },
   "outputs": [
    {
     "name": "stdout",
     "output_type": "stream",
     "text": [
      "\n",
      "#_____________________________Import Kombu classes_____________________________\n",
      "from kombu import Exchange, Queue\n",
      "\n",
      "#___________________________CELERY_TIMEZONE & Misc.____________________________\n",
      "CELERY_TIMEZONE = 'Asia/Taipei'\n",
      "CELERYD_POOL_RESTARTS = True\n",
      "\n",
      "#__________________________________BROKER_URL__________________________________\n",
      "BROKER_URL = 'redis://weilin.noip.me:6379/0'\n",
      "\n",
      "#____________________________CELERY_RESULT_BACKEND_____________________________\n",
      "CELERY_RESULT_BACKEND = 'redis://weilin.noip.me:6379/1'\n",
      "\n",
      "#________________________________CELERY_IMPORTS________________________________\n",
      "CELERY_IMPORTS = ('word_count.tasks',)\n",
      "\n",
      "#________________________________CELERY_QUEUES_________________________________\n",
      "CELERY_QUEUES = (\n",
      "    Queue('word_counting', Exchange('celery', type = 'direct'), routing_key='word_counting'),\n",
      ")\n",
      "\n",
      "#________________________________CELERY_ROUTES_________________________________\n",
      "CELERY_ROUTES = {\n",
      "    'word_count.tasks.mapper': {\n",
      "        'queue': 'word_counting',\n",
      "        'routing_key': 'word_counting',\n",
      "    },\n",
      "}\n",
      "\n",
      "#_______________________________Workers Scripts________________________________\n",
      "#[Node - localhost] : celery -A word_count worker -n worker1.%h -Q word_counting --concurrency=10 --loglevel=INFO\n",
      "\n",
      "#____________________________________FLOWER____________________________________\n",
      "#[Flower] : celery -A word_count flower\n"
     ]
    }
   ],
   "source": [
    "if __name__ == '__main__':\n",
    "    genConfigFile()"
   ]
  },
  {
   "cell_type": "code",
   "execution_count": null,
   "metadata": {
    "collapsed": true
   },
   "outputs": [],
   "source": []
  }
 ],
 "metadata": {
  "kernelspec": {
   "display_name": "Python 3",
   "language": "python",
   "name": "python3"
  },
  "language_info": {
   "codemirror_mode": {
    "name": "ipython",
    "version": 3
   },
   "file_extension": ".py",
   "mimetype": "text/x-python",
   "name": "python",
   "nbconvert_exporter": "python",
   "pygments_lexer": "ipython3",
   "version": "3.5.1"
  }
 },
 "nbformat": 4,
 "nbformat_minor": 0
}
